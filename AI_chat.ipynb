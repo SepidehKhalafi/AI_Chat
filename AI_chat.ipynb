{
  "cells": [
    {
      "cell_type": "code",
      "execution_count": null,
      "metadata": {
        "id": "m-qjwkSEEpHu"
      },
      "outputs": [],
      "source": [
        "import openai\n",
        "import os\n",
        "import pandas\n",
        "import re"
      ]
    },
    {
      "attachments": {},
      "cell_type": "markdown",
      "metadata": {
        "id": "5JbtzvM9EtDP"
      },
      "source": [
        "## To-Do list\n",
        "\n",
        "* giving instructions to chatgpt, asking it to generate a message and choose an action (play the game)\n",
        "* based on the message generated, we ask for a response (it could also be null I think)\n",
        "* we need to save these messages and actions in a dataframe for every round\n",
        "* given the chat to chatgpt, we give another instruction to generate the new message based on the previous messages and actions\n",
        "\n",
        "  * if the chat can be kept going on without interfering, we would not need the second prompt text\n",
        "  * if we present the other player's message and action, we would need some nlp codes."
      ]
    },
    {
      "cell_type": "code",
      "execution_count": null,
      "metadata": {
        "id": "yFNdq_CL8PLt"
      },
      "outputs": [],
      "source": [
        "openai.api_key = \"API KEY\"\n",
        "\n",
        "# Set up the GPT-3 model and parameters\n",
        "model_engine = \"davinci\" # Change this to another model if desired\n",
        "max_words = 100 # Maximum number of tokens per prompt\n",
        "creativity = 0.75 # Controls the \"creativity\" of the responses\n",
        "stop_sequence = \"\\n\" # Stop generating text after reaching a newline or maybe it could be none"
      ]
    },
    {
      "cell_type": "code",
      "execution_count": null,
      "metadata": {
        "id": "mpL4EvO48YfB"
      },
      "outputs": [],
      "source": [
        "# function to get the ChatGPT response given a trigger\n",
        "def get_chat_response(trigger):\n",
        "    response = openai.Completion.create(\n",
        "        engine = model_engine, # defined above\n",
        "        prompt = trigger, # given prompt\n",
        "        max_tokens = max_words,\n",
        "        temperature = creativity,\n",
        "        stop = stop_sequence,\n",
        "    )\n",
        "    chat_response = response.choices[0].text.strip()\n",
        "    return chat_response.lower()"
      ]
    },
    {
      "cell_type": "code",
      "execution_count": null,
      "metadata": {
        "id": "_4DtT6U4BN3s"
      },
      "outputs": [],
      "source": [
        "# initial prompt to send to the openai\n",
        "initial_prompt = \"\"\"Two humans are playing a repeated prisoner’s dilemma game. \n",
        "                    In each round, each player needs to select between two options \n",
        "                    \"keep\" and \"give\". If both of them give, each will earn 1. \n",
        "                    If both keep, both of them earn nothing. If one gives the other \n",
        "                    one keeps, the one gives earns nothing, while the one keeps earns \n",
        "                    $1.5. While choosing the action, each player also needs to send a \n",
        "                    message of no more than 50 words to the other player. The message \n",
        "                    together with the action will be revealed to the other after the \n",
        "                    choice is made. After that, a new round will start. \n",
        "                    Now suppose you are one of the players, please choose an action and send a message. \n",
        "                    Response like this: Action: XXX Message: XXX. \"\"\"\n",
        "\n",
        "# with the initial prompt chatgpt will generate text to start to message.\n",
        "chat_initial = get_chat_response(initial_prompt)\n",
        "ai2_trigger = f\"This is the other player's action and message: '{chat_initial}'\"\n",
        "ai2_initial_response = get_chat_response(ai2_trigger)\n",
        "\n"
      ]
    },
    {
      "cell_type": "code",
      "execution_count": null,
      "metadata": {
        "id": "k5_DTx1S9cbU"
      },
      "outputs": [],
      "source": [
        "# here we separate action and message\n",
        "\n",
        "def action_message_finder (text):\n",
        "    # Define regular expressions to match \"action\" and \"message\" followed by text\n",
        "    action_regex = re.compile(r'action\\s+(.*?)\\s*message', re.IGNORECASE)\n",
        "    message_regex = re.compile(r'message\\s+(.*)', re.IGNORECASE)\n",
        "    # Find the matches in the text generated\n",
        "    action_match = action_regex.search(chat_initial)\n",
        "    message_match = message_regex.search(chat_initial)\n",
        "\n",
        "    return action_match, message_match\n",
        "\n",
        "\n",
        "\n"
      ]
    },
    {
      "attachments": {},
      "cell_type": "markdown",
      "metadata": {},
      "source": [
        "# First round data collection"
      ]
    },
    {
      "cell_type": "code",
      "execution_count": null,
      "metadata": {},
      "outputs": [],
      "source": [
        "# saving the action and message of each round in a dataframe\n",
        "\n",
        "chat = pandas.DataFrame()\n",
        "chat[Action1], chat[Message1] = action_message_finder(chat_initial)\n",
        "chat[Action2], chat[Message2] = action_message_finder(ai2_initial_response)\n",
        "\n",
        "\n",
        "# we need to save the files along with round numer and the players name or number or code, in a json file."
      ]
    },
    {
      "attachments": {},
      "cell_type": "markdown",
      "metadata": {},
      "source": [
        "# Round 2+"
      ]
    },
    {
      "cell_type": "code",
      "execution_count": null,
      "metadata": {},
      "outputs": [],
      "source": [
        "# Here we will write the code for the other rounds\n",
        "\n",
        "promt = f\"\"\"Two humans are playing a repeated prisoner’s dilemma game. In each round, each player will be given $1 and \n",
        "           needs to select between cooperate and defect. Choosing to cooperate will reduce a player’s own money by \n",
        "           $0.05 while increasing the other player’s payoff by $0.1. Choosing to defect will not change the payoff of the \n",
        "           player who has chosen this. \n",
        "           While choosing the action, each player also needs to send a message of no more than 50 words to the \n",
        "           opponent. The message together with the action will be revealed to the opponent after \n",
        "           the choice is made. After that, a new round will start.\n",
        "\n",
        "           These are the actions and messages so far:\n",
        "           Action: {}\n",
        "           Message: {}\n",
        "\n",
        "           Based on the the previous actions and messages continue the game and generate \n",
        "           the action and message for this round.\"\"\""
      ]
    }
  ],
  "metadata": {
    "colab": {
      "provenance": []
    },
    "kernelspec": {
      "display_name": "Python 3",
      "name": "python3"
    },
    "language_info": {
      "name": "python"
    }
  },
  "nbformat": 4,
  "nbformat_minor": 0
}
