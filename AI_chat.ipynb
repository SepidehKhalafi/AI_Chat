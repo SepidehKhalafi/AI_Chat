{
  "nbformat": 4,
  "nbformat_minor": 0,
  "metadata": {
    "colab": {
      "provenance": []
    },
    "kernelspec": {
      "name": "python3",
      "display_name": "Python 3"
    },
    "language_info": {
      "name": "python"
    }
  },
  "cells": [
    {
      "cell_type": "code",
      "source": [
        "import openai\n",
        "import os\n",
        "import pandas\n",
        "import re"
      ],
      "metadata": {
        "id": "m-qjwkSEEpHu"
      },
      "execution_count": null,
      "outputs": []
    },
    {
      "cell_type": "markdown",
      "source": [
        "## To-Do list\n",
        "\n",
        "* giving instructions to chatgpt, asking it to generate a message and choose an action (play the game)\n",
        "* based on the message generated, we ask for a response (it could also be null I think)\n",
        "* we need to save these messages and actions in a dataframe for every round\n",
        "* given the chat to chatgpt, we give another instruction to generate the new message based on the previous messages and actions\n",
        "\n",
        "  * if the chat can be kept going on without interfering, we would not need the second prompt text\n",
        "  * if we present the other player's message and action, we would need some nlp codes."
      ],
      "metadata": {
        "id": "5JbtzvM9EtDP"
      }
    },
    {
      "cell_type": "code",
      "source": [
        "# Insert your OpenAI API key in one way of the two presented\n",
        "openai.api_key = os.environ[\"OPENAI_API_KEY\"]\n",
        "openai.api_key = \"INSERT YOUR API KEY HERE\"\n",
        "\n",
        "# Set up the GPT-3 model and parameters\n",
        "model_engine = \"davinci\" # Change this to another model if desired\n",
        "max_words = 100 # Maximum number of tokens per prompt\n",
        "creativity = 0.75 # Controls the \"creativity\" of the responses\n",
        "stop_sequence = \"\\n\" # Stop generating text after reaching a newline or maybe it could be none"
      ],
      "metadata": {
        "id": "yFNdq_CL8PLt"
      },
      "execution_count": null,
      "outputs": []
    },
    {
      "cell_type": "code",
      "source": [
        "# Define a function to get the ChatGPT response given a trigger\n",
        "def get_chat_response(trigger):\n",
        "    response = openai.Completion.create(\n",
        "        engine = model_engine, # defined above\n",
        "        prompt = trigger, # given prompt\n",
        "        max_tokens = max_words,\n",
        "        temperature = creativity,\n",
        "        stop = stop_sequence,\n",
        "    )\n",
        "    chat_response = response.choices[0].text.strip()\n",
        "    return chat_response.lower()"
      ],
      "metadata": {
        "id": "mpL4EvO48YfB"
      },
      "execution_count": null,
      "outputs": []
    },
    {
      "cell_type": "code",
      "execution_count": null,
      "metadata": {
        "id": "_4DtT6U4BN3s"
      },
      "outputs": [],
      "source": [
        "# Define the initial prompt to send to the openai\n",
        "initial_prompt = \"\"\"Two humans are playing a repeated prisoner’s dilemma game. In each round, each player will be given $1 and \n",
        "                    needs to select between cooperate and defect. Choosing to cooperate will reduce a player’s own money by \n",
        "                    $0.05 while increasing the other player’s payoff by $0.1. Choosing to defect will not change the payoff of the \n",
        "                    player who has chosen this. \n",
        "                    While choosing the action, each player also needs to send a message of no more than 100 words to the \n",
        "                    opponent. The message together with the action will be revealed to the opponent after \n",
        "                    the choice is made. After that, a new round will start. \n",
        "                    Now suppose you are one of the players, please choose an action and send a message. \n",
        "                    Response like this: Action: XXX Message: XXX. \"\"\"\n",
        "\n",
        "# with the initial prompt chatgpt will generate text to start to message.\n",
        "chat_initial = get_chat_response(initial_prompt)\n",
        "ai2_trigger = f\"This is the other player's action and message: '{chat_initial}'\"\n",
        "ai2_initial_response = get_chat_response(ai2_trigger)\n",
        "\n",
        "\n",
        "# not the right peice of code yet, to be improved\n",
        "chat = pandas.DataFrame()\n",
        "chat[Message1] = chat_initial\n",
        "chat[Message2] = ai2_initial_response\n",
        "chat[Action1] = \n",
        "chat[Action2] = \n",
        "\n"
      ]
    },
    {
      "cell_type": "code",
      "source": [
        "# here we separate action and message\n",
        "\n",
        "def action_message_finder (text):\n",
        "    # Define regular expressions to match \"action\" and \"message\" followed by text\n",
        "    action_regex = re.compile(r'action\\s+(.*?)\\s*message', re.IGNORECASE)\n",
        "    message_regex = re.compile(r'message\\s+(.*)', re.IGNORECASE)\n",
        "    # Find the matches in the text generated\n",
        "    action_match = action_regex.search(chat_initial)\n",
        "    message_match = message_regex.search(chat_initial)\n",
        "\n",
        "    return action_match, message_match\n",
        "\n",
        "\n",
        "\n"
      ],
      "metadata": {
        "id": "k5_DTx1S9cbU"
      },
      "execution_count": null,
      "outputs": []
    }
  ]
}